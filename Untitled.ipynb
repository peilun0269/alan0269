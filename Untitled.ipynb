{
 "cells": [
  {
   "cell_type": "code",
   "execution_count": 6,
   "metadata": {},
   "outputs": [
    {
     "name": "stdout",
     "output_type": "stream",
     "text": [
      "Enter height:23.5\n",
      "Enter weight:19\n",
      "perimeter= 21.25\n",
      "area= 446.5\n"
     ]
    }
   ],
   "source": [
    "a=eval(input('Enter height:'))\n",
    "b=eval(input('Enter weight:'))\n",
    "d=(2*a+2*b)/4\n",
    "print('perimeter=',d)\n",
    "c=b*a\n",
    "print('area=',c)"
   ]
  },
  {
   "cell_type": "code",
   "execution_count": null,
   "metadata": {},
   "outputs": [],
   "source": []
  },
  {
   "cell_type": "code",
   "execution_count": 8,
   "metadata": {
    "scrolled": true
   },
   "outputs": [
    {
     "name": "stdout",
     "output_type": "stream",
     "text": [
      " min:10\n",
      " sec:25\n",
      " km:3\n",
      "speed= 10.8\n"
     ]
    }
   ],
   "source": [
    "x=eval(input(' min:'))\n",
    "y=eval(input(' sec:'))\n",
    "z=eval(input(' km:'))\n",
    "a=z/1.6\n",
    "b=(x*60+y)/3600\n",
    "f=a/b\n",
    "print('speed=',f)\n",
    "\n"
   ]
  },
  {
   "cell_type": "code",
   "execution_count": 17,
   "metadata": {},
   "outputs": [
    {
     "name": "stdout",
     "output_type": "stream",
     "text": [
      "miles=10\n",
      "km= 16.0\n"
     ]
    }
   ],
   "source": [
    "b=eval(input('miles='))\n",
    "a=b*1.6\n",
    "print('km=',a)"
   ]
  },
  {
   "cell_type": "code",
   "execution_count": 22,
   "metadata": {},
   "outputs": [
    {
     "name": "stdout",
     "output_type": "stream",
     "text": [
      "华氏温度=32\n",
      "摄氏温度: 0.0\n"
     ]
    }
   ],
   "source": [
    "a=eval(input('华氏温度='))\n",
    "b=((a-32)*5/9)\n",
    "print(\"摄氏温度:\",b)"
   ]
  },
  {
   "cell_type": "code",
   "execution_count": 30,
   "metadata": {},
   "outputs": [
    {
     "name": "stdout",
     "output_type": "stream",
     "text": [
      "a=5\n",
      "b=6\n",
      "c=7\n",
      "sum= 18\n",
      "average= 6.0\n"
     ]
    }
   ],
   "source": [
    "a=eval(input(\"a=\"))\n",
    "b=eval(input(\"b=\"))\n",
    "c=eval(input(\"c=\"))\n",
    "sum=a+b+c\n",
    "print('sum=',sum)\n",
    "average=sum/3\n",
    "print('average=',average)\n"
   ]
  },
  {
   "cell_type": "code",
   "execution_count": null,
   "metadata": {},
   "outputs": [],
   "source": []
  }
 ],
 "metadata": {
  "kernelspec": {
   "display_name": "Python 3",
   "language": "python",
   "name": "python3"
  },
  "language_info": {
   "codemirror_mode": {
    "name": "ipython",
    "version": 3
   },
   "file_extension": ".py",
   "mimetype": "text/x-python",
   "name": "python",
   "nbconvert_exporter": "python",
   "pygments_lexer": "ipython3",
   "version": "3.7.3"
  }
 },
 "nbformat": 4,
 "nbformat_minor": 2
}
