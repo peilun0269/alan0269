{
 "cells": [
  {
   "cell_type": "code",
   "execution_count": 1,
   "metadata": {},
   "outputs": [
    {
     "name": "stdout",
     "output_type": "stream",
     "text": [
      "12345\n"
     ]
    }
   ],
   "source": [
    "print(12345)"
   ]
  },
  {
   "cell_type": "code",
   "execution_count": 2,
   "metadata": {},
   "outputs": [
    {
     "data": {
      "text/plain": [
       "int"
      ]
     },
     "execution_count": 2,
     "metadata": {},
     "output_type": "execute_result"
    }
   ],
   "source": [
    "type(12345)"
   ]
  },
  {
   "cell_type": "code",
   "execution_count": 3,
   "metadata": {},
   "outputs": [
    {
     "name": "stdout",
     "output_type": "stream",
     "text": [
      "123.456\n"
     ]
    }
   ],
   "source": [
    "print(123.456)"
   ]
  },
  {
   "cell_type": "code",
   "execution_count": 4,
   "metadata": {},
   "outputs": [
    {
     "data": {
      "text/plain": [
       "float"
      ]
     },
     "execution_count": 4,
     "metadata": {},
     "output_type": "execute_result"
    }
   ],
   "source": [
    "type(123.456)"
   ]
  },
  {
   "cell_type": "code",
   "execution_count": 5,
   "metadata": {},
   "outputs": [
    {
     "name": "stdout",
     "output_type": "stream",
     "text": [
      "Hello\n"
     ]
    }
   ],
   "source": [
    "print(\"Hello\")"
   ]
  },
  {
   "cell_type": "code",
   "execution_count": 6,
   "metadata": {},
   "outputs": [
    {
     "data": {
      "text/plain": [
       "str"
      ]
     },
     "execution_count": 6,
     "metadata": {},
     "output_type": "execute_result"
    }
   ],
   "source": [
    "type(\"Hello\")"
   ]
  },
  {
   "cell_type": "code",
   "execution_count": 7,
   "metadata": {},
   "outputs": [
    {
     "name": "stdout",
     "output_type": "stream",
     "text": [
      "Hello:12+1\n"
     ]
    }
   ],
   "source": [
    "print(\"Hello:12+1\")"
   ]
  },
  {
   "cell_type": "code",
   "execution_count": 8,
   "metadata": {},
   "outputs": [
    {
     "name": "stdout",
     "output_type": "stream",
     "text": [
      "Hello: 13\n"
     ]
    }
   ],
   "source": [
    "print(\"Hello:\",12+1)"
   ]
  },
  {
   "cell_type": "code",
   "execution_count": 9,
   "metadata": {},
   "outputs": [
    {
     "name": "stdout",
     "output_type": "stream",
     "text": [
      "Hello world\n",
      "Hello world\n"
     ]
    }
   ],
   "source": [
    "print(\"Hello world\")\n",
    "print('Hello world')"
   ]
  },
  {
   "cell_type": "code",
   "execution_count": 10,
   "metadata": {},
   "outputs": [
    {
     "name": "stdout",
     "output_type": "stream",
     "text": [
      "Hello \n",
      "world\n"
     ]
    }
   ],
   "source": [
    "print(\"Hello \\nworld\")"
   ]
  },
  {
   "cell_type": "code",
   "execution_count": 11,
   "metadata": {},
   "outputs": [
    {
     "name": "stdout",
     "output_type": "stream",
     "text": [
      "Hello \tworld\n"
     ]
    }
   ],
   "source": [
    "print(\"Hello \\tworld\")"
   ]
  },
  {
   "cell_type": "code",
   "execution_count": 12,
   "metadata": {},
   "outputs": [
    {
     "name": "stdout",
     "output_type": "stream",
     "text": [
      "Let's go\n"
     ]
    }
   ],
   "source": [
    "print(\"Let's go\")"
   ]
  },
  {
   "cell_type": "code",
   "execution_count": 13,
   "metadata": {},
   "outputs": [
    {
     "ename": "SyntaxError",
     "evalue": "invalid syntax (<ipython-input-13-2d1e7b12ed8a>, line 1)",
     "output_type": "error",
     "traceback": [
      "\u001b[1;36m  File \u001b[1;32m\"<ipython-input-13-2d1e7b12ed8a>\"\u001b[1;36m, line \u001b[1;32m1\u001b[0m\n\u001b[1;33m    print('Let's go')\u001b[0m\n\u001b[1;37m               ^\u001b[0m\n\u001b[1;31mSyntaxError\u001b[0m\u001b[1;31m:\u001b[0m invalid syntax\n"
     ]
    }
   ],
   "source": [
    "print('Let's go')"
   ]
  },
  {
   "cell_type": "code",
   "execution_count": 14,
   "metadata": {},
   "outputs": [
    {
     "name": "stdout",
     "output_type": "stream",
     "text": [
      "Let's go\n"
     ]
    }
   ],
   "source": [
    "print('Let\\'s go')"
   ]
  },
  {
   "cell_type": "code",
   "execution_count": 15,
   "metadata": {},
   "outputs": [
    {
     "ename": "SyntaxError",
     "evalue": "invalid syntax (<ipython-input-15-174accc40610>, line 1)",
     "output_type": "error",
     "traceback": [
      "\u001b[1;36m  File \u001b[1;32m\"<ipython-input-15-174accc40610>\"\u001b[1;36m, line \u001b[1;32m1\u001b[0m\n\u001b[1;33m    print(\"Let\"s go\")\u001b[0m\n\u001b[1;37m               ^\u001b[0m\n\u001b[1;31mSyntaxError\u001b[0m\u001b[1;31m:\u001b[0m invalid syntax\n"
     ]
    }
   ],
   "source": [
    "print(\"Let\"s go\")"
   ]
  },
  {
   "cell_type": "code",
   "execution_count": 16,
   "metadata": {},
   "outputs": [
    {
     "name": "stdout",
     "output_type": "stream",
     "text": [
      "Let\"s go\n"
     ]
    }
   ],
   "source": [
    "print(\"Let\\\"s go\")"
   ]
  },
  {
   "cell_type": "code",
   "execution_count": 17,
   "metadata": {},
   "outputs": [
    {
     "name": "stdout",
     "output_type": "stream",
     "text": [
      "Hello\n",
      "world\n"
     ]
    }
   ],
   "source": [
    "print(\"Hello\")\n",
    "print(\"world\")"
   ]
  },
  {
   "cell_type": "code",
   "execution_count": 18,
   "metadata": {},
   "outputs": [
    {
     "name": "stdout",
     "output_type": "stream",
     "text": [
      "Hello***world\n"
     ]
    }
   ],
   "source": [
    "print(\"Hello\",end='***')\n",
    "print(\"world\")"
   ]
  },
  {
   "cell_type": "code",
   "execution_count": 19,
   "metadata": {},
   "outputs": [
    {
     "name": "stdout",
     "output_type": "stream",
     "text": [
      "Hello***world\n"
     ]
    }
   ],
   "source": [
    "print(\"Hello***world\")"
   ]
  },
  {
   "cell_type": "code",
   "execution_count": 20,
   "metadata": {},
   "outputs": [
    {
     "name": "stdout",
     "output_type": "stream",
     "text": [
      "Class B week 3\n",
      "---------------\n"
     ]
    }
   ],
   "source": [
    "print(\"Class B week 3\")\n",
    "print('---------------')"
   ]
  },
  {
   "cell_type": "code",
   "execution_count": 21,
   "metadata": {},
   "outputs": [
    {
     "name": "stdout",
     "output_type": "stream",
     "text": [
      "3\n",
      "6\n"
     ]
    }
   ],
   "source": [
    "i = 0\n",
    "#i += 3\n",
    "i = i + 3\n",
    "print(i)\n",
    "i = i + 3\n",
    "print(i)"
   ]
  },
  {
   "cell_type": "code",
   "execution_count": 22,
   "metadata": {},
   "outputs": [
    {
     "name": "stdout",
     "output_type": "stream",
     "text": [
      "1000\n",
      "10000\n"
     ]
    }
   ],
   "source": [
    "i = 10\n",
    "i *= 10\n",
    "i = i *10\n",
    "print(i)\n",
    "i = i *10\n",
    "print(i)"
   ]
  },
  {
   "cell_type": "code",
   "execution_count": 23,
   "metadata": {},
   "outputs": [
    {
     "name": "stdout",
     "output_type": "stream",
     "text": [
      "請輸入整數\n"
     ]
    },
    {
     "ename": "ValueError",
     "evalue": "could not convert string to float: ''",
     "output_type": "error",
     "traceback": [
      "\u001b[1;31m---------------------------------------------------------------------------\u001b[0m",
      "\u001b[1;31mValueError\u001b[0m                                Traceback (most recent call last)",
      "\u001b[1;32m<ipython-input-23-7d2f1dc8b42d>\u001b[0m in \u001b[0;36m<module>\u001b[1;34m\u001b[0m\n\u001b[0;32m      1\u001b[0m \u001b[0mk\u001b[0m \u001b[1;33m=\u001b[0m \u001b[0minput\u001b[0m\u001b[1;33m(\u001b[0m\u001b[1;34m\"請輸入整數\"\u001b[0m\u001b[1;33m)\u001b[0m\u001b[1;33m\u001b[0m\u001b[1;33m\u001b[0m\u001b[0m\n\u001b[1;32m----> 2\u001b[1;33m \u001b[0mfloat\u001b[0m\u001b[1;33m(\u001b[0m\u001b[0mk\u001b[0m\u001b[1;33m)\u001b[0m\u001b[1;33m+\u001b[0m\u001b[1;36m10\u001b[0m\u001b[1;33m\u001b[0m\u001b[1;33m\u001b[0m\u001b[0m\n\u001b[0m",
      "\u001b[1;31mValueError\u001b[0m: could not convert string to float: ''"
     ]
    }
   ],
   "source": [
    "k = input(\"請輸入整數\")\n",
    "float(k)+10"
   ]
  },
  {
   "cell_type": "code",
   "execution_count": null,
   "metadata": {},
   "outputs": [],
   "source": [
    "import math as ma"
   ]
  },
  {
   "cell_type": "code",
   "execution_count": null,
   "metadata": {},
   "outputs": [],
   "source": [
    "ma.ceil(3.4)"
   ]
  },
  {
   "cell_type": "code",
   "execution_count": null,
   "metadata": {},
   "outputs": [],
   "source": [
    "# syntax\n",
    "# if boolean-expression:\n",
    "#      statement(s)"
   ]
  },
  {
   "cell_type": "code",
   "execution_count": 24,
   "metadata": {},
   "outputs": [
    {
     "data": {
      "text/plain": [
       "True"
      ]
     },
     "execution_count": 24,
     "metadata": {},
     "output_type": "execute_result"
    }
   ],
   "source": [
    "1 >= 0"
   ]
  },
  {
   "cell_type": "code",
   "execution_count": 25,
   "metadata": {},
   "outputs": [
    {
     "data": {
      "text/plain": [
       "1"
      ]
     },
     "execution_count": 25,
     "metadata": {},
     "output_type": "execute_result"
    }
   ],
   "source": [
    "int(1 >= 0)"
   ]
  },
  {
   "cell_type": "code",
   "execution_count": 26,
   "metadata": {},
   "outputs": [
    {
     "data": {
      "text/plain": [
       "False"
      ]
     },
     "execution_count": 26,
     "metadata": {},
     "output_type": "execute_result"
    }
   ],
   "source": [
    "1 <= 0"
   ]
  },
  {
   "cell_type": "code",
   "execution_count": 27,
   "metadata": {},
   "outputs": [
    {
     "data": {
      "text/plain": [
       "0"
      ]
     },
     "execution_count": 27,
     "metadata": {},
     "output_type": "execute_result"
    }
   ],
   "source": [
    "int(1 <= 0)"
   ]
  },
  {
   "cell_type": "code",
   "execution_count": 28,
   "metadata": {},
   "outputs": [
    {
     "name": "stdout",
     "output_type": "stream",
     "text": [
      "hi\n"
     ]
    }
   ],
   "source": [
    "i = -1\n",
    "if(i>=0):\n",
    "    print(i)\n",
    "    print(i)\n",
    "    print(i)\n",
    "print(\"hi\")"
   ]
  },
  {
   "cell_type": "code",
   "execution_count": 29,
   "metadata": {},
   "outputs": [
    {
     "name": "stdout",
     "output_type": "stream",
     "text": [
      "60\n"
     ]
    }
   ],
   "source": [
    "x = 60\n",
    "if (x>60):\n",
    "    x = x + 5\n",
    "    print(x)\n",
    "print(x)"
   ]
  },
  {
   "cell_type": "code",
   "execution_count": 30,
   "metadata": {},
   "outputs": [
    {
     "name": "stdout",
     "output_type": "stream",
     "text": [
      "分母為0\n"
     ]
    }
   ],
   "source": [
    "numer = 10\n",
    "demon = 0\n",
    "if(demon !=0):\n",
    "    ans = numer/ demon\n",
    "else:\n",
    "    ans =\"分母為0\"\n",
    "print(ans)"
   ]
  },
  {
   "cell_type": "code",
   "execution_count": 31,
   "metadata": {},
   "outputs": [
    {
     "data": {
      "text/plain": [
       "4"
      ]
     },
     "execution_count": 31,
     "metadata": {},
     "output_type": "execute_result"
    }
   ],
   "source": [
    "10%6\n"
   ]
  },
  {
   "cell_type": "code",
   "execution_count": 32,
   "metadata": {},
   "outputs": [
    {
     "name": "stdout",
     "output_type": "stream",
     "text": [
      "9 是奇數\n"
     ]
    }
   ],
   "source": [
    "num = 9\n",
    "if(num%2==0):\n",
    "    print(num, \"是偶數\")\n",
    "else:\n",
    "    print(num, \"是奇數\")"
   ]
  },
  {
   "cell_type": "code",
   "execution_count": 33,
   "metadata": {},
   "outputs": [
    {
     "name": "stdout",
     "output_type": "stream",
     "text": [
      "Class B week 4\n",
      "---------------\n"
     ]
    }
   ],
   "source": [
    "print(\"Class B week 4\")\n",
    "print('---------------')"
   ]
  },
  {
   "cell_type": "code",
   "execution_count": 34,
   "metadata": {},
   "outputs": [
    {
     "name": "stdout",
     "output_type": "stream",
     "text": [
      "0 是零\n"
     ]
    }
   ],
   "source": [
    "# 偶數, 奇數, 0\n",
    "num = 0\n",
    "if(num==0):\n",
    "    print(num, \"是零\")\n",
    "else:\n",
    "    if(num%2==0):\n",
    "        print(num, \"是偶數\")\n",
    "    else:\n",
    "        print(num, \"是奇數\")"
   ]
  },
  {
   "cell_type": "code",
   "execution_count": 35,
   "metadata": {},
   "outputs": [
    {
     "name": "stdout",
     "output_type": "stream",
     "text": [
      "2 是偶數\n"
     ]
    }
   ],
   "source": [
    "# 偶數, 奇數, 0\n",
    "num = 2\n",
    "if(num==0):\n",
    "    print(num, \"是零\")\n",
    "elif(num%2==0):\n",
    "    print(num, \"是偶數\")\n",
    "else:\n",
    "    print(num, \"是奇數\")"
   ]
  },
  {
   "cell_type": "code",
   "execution_count": 36,
   "metadata": {},
   "outputs": [
    {
     "name": "stdout",
     "output_type": "stream",
     "text": [
      "True\n",
      "False\n",
      "True\n"
     ]
    }
   ],
   "source": [
    "a = 1\n",
    "b = 2\n",
    "c = 3\n",
    "d = 4\n",
    "print((a<b))\n",
    "print((c>d))\n",
    "print((a<b)or(c>d))"
   ]
  },
  {
   "cell_type": "code",
   "execution_count": 37,
   "metadata": {},
   "outputs": [
    {
     "name": "stdout",
     "output_type": "stream",
     "text": [
      "True\n",
      "True\n",
      "True\n",
      "True\n"
     ]
    }
   ],
   "source": [
    "score = 85\n",
    "behavior = 80\n",
    "print((score>=85))\n",
    "print((behavior>=80))\n",
    "print((score>=85)and(behavior>=80))\n",
    "print((score>=85)or(behavior>=80))"
   ]
  },
  {
   "cell_type": "code",
   "execution_count": 38,
   "metadata": {},
   "outputs": [
    {
     "name": "stdout",
     "output_type": "stream",
     "text": [
      "False\n",
      "False\n",
      "False\n",
      "False\n"
     ]
    }
   ],
   "source": [
    "score = 85\n",
    "behavior = 80\n",
    "print((score>90))\n",
    "print((behavior>80))\n",
    "print((score>90)and(behavior>80))\n",
    "print((score>90)or(behavior>80))"
   ]
  },
  {
   "cell_type": "code",
   "execution_count": 39,
   "metadata": {},
   "outputs": [
    {
     "name": "stdout",
     "output_type": "stream",
     "text": [
      "3 是奇數\n"
     ]
    }
   ],
   "source": [
    "# 偶數, 奇數, 0\n",
    "num = 3\n",
    "if(num==0):\n",
    "    print(num, \"是零\")\n",
    "elif(num!=0)and(num%2==0):\n",
    "    print(num, \"是偶數\")\n",
    "elif(num!=0)and(num%2!=0):\n",
    "    print(num, \"是奇數\")"
   ]
  },
  {
   "cell_type": "code",
   "execution_count": 40,
   "metadata": {},
   "outputs": [
    {
     "name": "stdout",
     "output_type": "stream",
     "text": [
      "Class B week 5\n",
      "---------------\n"
     ]
    }
   ],
   "source": [
    "print(\"Class B week 5\")\n",
    "print('---------------')"
   ]
  },
  {
   "cell_type": "code",
   "execution_count": 41,
   "metadata": {},
   "outputs": [],
   "source": [
    "# while condition:\n",
    "#     statements(s)"
   ]
  },
  {
   "cell_type": "code",
   "execution_count": 42,
   "metadata": {},
   "outputs": [
    {
     "name": "stdout",
     "output_type": "stream",
     "text": [
      "1 Hello\n",
      "2 Hello\n",
      "3 Hello\n",
      "4 Hello\n"
     ]
    }
   ],
   "source": [
    "i = 1\n",
    "while(i<5):\n",
    "    print(i,\"Hello\")\n",
    "    i = i+1"
   ]
  },
  {
   "cell_type": "code",
   "execution_count": 45,
   "metadata": {},
   "outputs": [
    {
     "name": "stdout",
     "output_type": "stream",
     "text": [
      "1 Hello\n",
      "2 Hello\n",
      "3 Hello\n",
      "4 Hello\n"
     ]
    }
   ],
   "source": [
    "for i in range(1, 4+1):\n",
    "    print(i,\"Hello\")"
   ]
  },
  {
   "cell_type": "code",
   "execution_count": 44,
   "metadata": {},
   "outputs": [
    {
     "name": "stdout",
     "output_type": "stream",
     "text": [
      "15\n",
      "6\n"
     ]
    }
   ],
   "source": [
    "i = 1\n",
    "total = 0\n",
    "while(i<=5):\n",
    "    total = total + i\n",
    "#    print(i, total)\n",
    "    i = i + 1\n",
    "print(total)\n",
    "print(i)"
   ]
  },
  {
   "cell_type": "code",
   "execution_count": 46,
   "metadata": {
    "scrolled": true
   },
   "outputs": [
    {
     "name": "stdout",
     "output_type": "stream",
     "text": [
      "15\n",
      "5\n"
     ]
    }
   ],
   "source": [
    "total = 0\n",
    "for i in range(1, 5+1):\n",
    "    total = total + i\n",
    "print(total)\n",
    "print(i)"
   ]
  },
  {
   "cell_type": "code",
   "execution_count": 48,
   "metadata": {},
   "outputs": [
    {
     "name": "stdout",
     "output_type": "stream",
     "text": [
      "1 1\n",
      "3 4\n",
      "5 9\n",
      "7 16\n",
      "9 25\n",
      "total: 25\n",
      "i: 11\n"
     ]
    }
   ],
   "source": [
    "i = 1 \n",
    "total = 0\n",
    "while(i<=10):\n",
    "    total = total + i\n",
    "    print(i, total)\n",
    "    i = i + 2\n",
    "print(\"total:\", total)\n",
    "print(\"i:\", i)"
   ]
  },
  {
   "cell_type": "code",
   "execution_count": 49,
   "metadata": {},
   "outputs": [
    {
     "name": "stdout",
     "output_type": "stream",
     "text": [
      "1 1\n",
      "3 4\n",
      "5 9\n",
      "7 16\n",
      "9 25\n",
      "total: 25\n",
      "i: 9\n"
     ]
    }
   ],
   "source": [
    "total = 0\n",
    "for i in range(1, 10+1, 2):\n",
    "    total = total + i\n",
    "    print(i, total)\n",
    "print(\"total:\", total)\n",
    "print(\"i:\", i)"
   ]
  },
  {
   "cell_type": "code",
   "execution_count": 50,
   "metadata": {},
   "outputs": [
    {
     "name": "stdout",
     "output_type": "stream",
     "text": [
      "0 0\n",
      "2 2\n",
      "4 6\n",
      "6 12\n",
      "8 20\n",
      "10 30\n",
      "total: 30\n",
      "i: 12\n"
     ]
    }
   ],
   "source": [
    "i = 0\n",
    "total = 0\n",
    "while(i<=10):\n",
    "    total = total + i\n",
    "    print(i, total)\n",
    "    i = i + 2\n",
    "print(\"total:\", total)\n",
    "print(\"i:\", i)"
   ]
  },
  {
   "cell_type": "code",
   "execution_count": 51,
   "metadata": {},
   "outputs": [
    {
     "name": "stdout",
     "output_type": "stream",
     "text": [
      "0 0\n",
      "2 2\n",
      "4 6\n",
      "6 12\n",
      "8 20\n",
      "10 30\n",
      "total: 30\n",
      "i: 10\n"
     ]
    }
   ],
   "source": [
    "total = 0\n",
    "for i in range(0, 10+1, 2):\n",
    "    total = total + i\n",
    "    print(i, total)\n",
    "print(\"total:\", total)\n",
    "print(\"i:\", i)"
   ]
  },
  {
   "cell_type": "code",
   "execution_count": 52,
   "metadata": {},
   "outputs": [
    {
     "name": "stdout",
     "output_type": "stream",
     "text": [
      "Class B week 6\n",
      "---------------\n"
     ]
    }
   ],
   "source": [
    "print(\"Class B week 6\")\n",
    "print('---------------')"
   ]
  },
  {
   "cell_type": "code",
   "execution_count": 53,
   "metadata": {},
   "outputs": [
    {
     "name": "stdout",
     "output_type": "stream",
     "text": [
      "0\n",
      "1\n",
      "2\n",
      "3\n",
      "4\n",
      "5\n",
      "6\n",
      "7\n",
      "8\n",
      "9\n"
     ]
    }
   ],
   "source": [
    "for i in range(0, 10):\n",
    "    print(i)"
   ]
  },
  {
   "cell_type": "code",
   "execution_count": 54,
   "metadata": {},
   "outputs": [
    {
     "name": "stdout",
     "output_type": "stream",
     "text": [
      "in loop, 0\n",
      "in loop, 1\n",
      "in loop, 2\n",
      "out of the loop, 2\n"
     ]
    }
   ],
   "source": [
    "for i in range(0, 10):\n",
    "    print(\"in loop,\", i)\n",
    "    if(i >= 2):\n",
    "        break\n",
    "print(\"out of the loop,\", i)"
   ]
  },
  {
   "cell_type": "code",
   "execution_count": 55,
   "metadata": {},
   "outputs": [
    {
     "name": "stdout",
     "output_type": "stream",
     "text": [
      "in loop, 0\n",
      "in loop, 1\n",
      "out of the loop, 2\n"
     ]
    }
   ],
   "source": [
    "for i in range(0, 10):\n",
    "    if(i >= 2):\n",
    "        break\n",
    "    print(\"in loop,\", i)\n",
    "print(\"out of the loop,\",i)"
   ]
  },
  {
   "cell_type": "code",
   "execution_count": 56,
   "metadata": {},
   "outputs": [
    {
     "name": "stdout",
     "output_type": "stream",
     "text": [
      "in loop, 0\n",
      "in loop, 1\n",
      "out of the loop, 9\n"
     ]
    }
   ],
   "source": [
    "for i in range(0 ,10):\n",
    "    if(i >=2):\n",
    "        continue\n",
    "    print(\"in loop,\",i)\n",
    "print(\"out of the loop,\",i)"
   ]
  },
  {
   "cell_type": "code",
   "execution_count": 58,
   "metadata": {},
   "outputs": [
    {
     "name": "stdout",
     "output_type": "stream",
     "text": [
      "4\n"
     ]
    }
   ],
   "source": [
    "total = 0\n",
    "number = 0\n",
    "while True:\n",
    "    number = number + 1\n",
    "    total = total + number \n",
    "    if(total >= 10):\n",
    "        break\n",
    "print(number)"
   ]
  },
  {
   "cell_type": "code",
   "execution_count": 59,
   "metadata": {},
   "outputs": [
    {
     "name": "stdout",
     "output_type": "stream",
     "text": [
      "6\n"
     ]
    }
   ],
   "source": [
    "total = 0\n",
    "number = 0\n",
    "while True:\n",
    "    number = number + 2\n",
    "    total  = total + number\n",
    "    if(total >= 10):\n",
    "        break\n",
    "print(number)"
   ]
  },
  {
   "cell_type": "code",
   "execution_count": 60,
   "metadata": {},
   "outputs": [
    {
     "name": "stdout",
     "output_type": "stream",
     "text": [
      "1 1\n",
      "2 3\n",
      "3 6\n",
      "4 10\n",
      "4\n"
     ]
    }
   ],
   "source": [
    "total = 0\n",
    "number = 0\n",
    "while True:\n",
    "    number = number + 1\n",
    "    total  = total + number\n",
    "    print(number, total)\n",
    "    if(total >= 10):\n",
    "        break\n",
    "print(number)"
   ]
  },
  {
   "cell_type": "code",
   "execution_count": 61,
   "metadata": {},
   "outputs": [
    {
     "name": "stdout",
     "output_type": "stream",
     "text": [
      "2 2\n",
      "4 6\n",
      "6 12\n",
      "6\n"
     ]
    }
   ],
   "source": [
    "total = 0\n",
    "number = 0\n",
    "while True:\n",
    "    number = number + 1\n",
    "    if(number%2!=0):\n",
    "        continue\n",
    "    total  = total + number\n",
    "    print(number, total)\n",
    "    if(total >= 10):\n",
    "        break\n",
    "print(number)"
   ]
  },
  {
   "cell_type": "code",
   "execution_count": 62,
   "metadata": {},
   "outputs": [
    {
     "name": "stdout",
     "output_type": "stream",
     "text": [
      "1 1\n",
      "3 4\n",
      "5 9\n",
      "7 16\n",
      "7\n"
     ]
    }
   ],
   "source": [
    "total = 0\n",
    "number = 0\n",
    "while True:\n",
    "    number = number + 1\n",
    "    if(number%2==0):\n",
    "        continue\n",
    "    total  = total + number\n",
    "    print(number, total)\n",
    "    if(total >= 10):\n",
    "        break\n",
    "print(number)"
   ]
  },
  {
   "cell_type": "code",
   "execution_count": 64,
   "metadata": {},
   "outputs": [],
   "source": [
    "import random"
   ]
  },
  {
   "cell_type": "code",
   "execution_count": 65,
   "metadata": {},
   "outputs": [
    {
     "data": {
      "text/plain": [
       "0.2677647284277389"
      ]
     },
     "execution_count": 65,
     "metadata": {},
     "output_type": "execute_result"
    }
   ],
   "source": [
    "random.random()"
   ]
  },
  {
   "cell_type": "code",
   "execution_count": 66,
   "metadata": {},
   "outputs": [
    {
     "name": "stdout",
     "output_type": "stream",
     "text": [
      "0 4\n",
      "1 4\n",
      "2 1\n",
      "3 1\n",
      "4 3\n",
      "5 3\n",
      "6 2\n",
      "7 4\n",
      "8 3\n",
      "9 1\n"
     ]
    }
   ],
   "source": [
    "for i in range (0, 10):\n",
    "    print(i ,  random.randint(1, 4))"
   ]
  },
  {
   "cell_type": "code",
   "execution_count": 67,
   "metadata": {},
   "outputs": [
    {
     "data": {
      "text/plain": [
       "4"
      ]
     },
     "execution_count": 67,
     "metadata": {},
     "output_type": "execute_result"
    }
   ],
   "source": [
    "random.randint(1, 4)"
   ]
  },
  {
   "cell_type": "code",
   "execution_count": 68,
   "metadata": {},
   "outputs": [
    {
     "name": "stdout",
     "output_type": "stream",
     "text": [
      "2\n",
      "4\n",
      "3\n",
      "1\n",
      "1\n",
      "3\n",
      "3\n",
      "4\n",
      "3\n",
      "2\n",
      "odd:  6\n",
      "even: 4\n"
     ]
    }
   ],
   "source": [
    "odd  = 0\n",
    "even = 0\n",
    "for i in range(0, 10):\n",
    "    num = random.randint(1, 4)\n",
    "    print(num)\n",
    "    if(num%2==0):\n",
    "        even = even + 1\n",
    "    else:\n",
    "        odd = odd + 1\n",
    "print(\"odd: \", odd)\n",
    "print(\"even:\", even)"
   ]
  },
  {
   "cell_type": "code",
   "execution_count": 71,
   "metadata": {},
   "outputs": [
    {
     "name": "stdout",
     "output_type": "stream",
     "text": [
      "2 是質數\n"
     ]
    }
   ],
   "source": [
    "num = 2\n",
    "sign = 0\n",
    "for i in range(2, num):\n",
    "    if(num%i == 0):\n",
    "        print(num, \"不是質數\")\n",
    "        sign = 1\n",
    "        break\n",
    "if(sign == 0 ):\n",
    "    print(num, \"是質數\")"
   ]
  },
  {
   "cell_type": "code",
   "execution_count": 72,
   "metadata": {},
   "outputs": [
    {
     "name": "stdout",
     "output_type": "stream",
     "text": [
      "2 是質數\n",
      "3 是質數\n",
      "4 不是質數\n",
      "5 是質數\n",
      "6 不是質數\n",
      "7 是質數\n",
      "8 不是質數\n",
      "9 不是質數\n",
      "10 不是質數\n"
     ]
    }
   ],
   "source": [
    "for num in range(2, 11):\n",
    "    sign = 0\n",
    "    for i in range(2, num):\n",
    "        if(num%i == 0):\n",
    "            print(num, \"不是質數\")\n",
    "            sign = 1\n",
    "            break\n",
    "    if(sign == 0 ):\n",
    "        print(num, \"是質數\")"
   ]
  },
  {
   "cell_type": "code",
   "execution_count": 73,
   "metadata": {},
   "outputs": [
    {
     "name": "stdout",
     "output_type": "stream",
     "text": [
      "2 是質數\n",
      "3 是質數\n",
      "4 不是質數\n",
      "5 是質數\n",
      "6 不是質數\n",
      "7 是質數\n",
      "8 不是質數\n",
      "9 不是質數\n",
      "10 不是質數\n"
     ]
    }
   ],
   "source": [
    "for j in range(2, 11):\n",
    "    num = j\n",
    "    sign = 0\n",
    "    for i in range(2, num):\n",
    "        if(num%i == 0):\n",
    "            print(num, \"不是質數\")\n",
    "            sign = 1\n",
    "            break\n",
    "    if(sign == 0 ):\n",
    "        print(num, \"是質數\")"
   ]
  },
  {
   "cell_type": "code",
   "execution_count": 1,
   "metadata": {},
   "outputs": [
    {
     "name": "stdout",
     "output_type": "stream",
     "text": [
      "1000\n"
     ]
    }
   ],
   "source": [
    "i = 10\n",
    "i *= 10\n",
    "i = i *10\n",
    "print(i)"
   ]
  },
  {
   "cell_type": "code",
   "execution_count": null,
   "metadata": {},
   "outputs": [],
   "source": []
  }
 ],
 "metadata": {
  "kernelspec": {
   "display_name": "Python 3",
   "language": "python",
   "name": "python3"
  },
  "language_info": {
   "codemirror_mode": {
    "name": "ipython",
    "version": 3
   },
   "file_extension": ".py",
   "mimetype": "text/x-python",
   "name": "python",
   "nbconvert_exporter": "python",
   "pygments_lexer": "ipython3",
   "version": "3.8.3"
  }
 },
 "nbformat": 4,
 "nbformat_minor": 4
}
