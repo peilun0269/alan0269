{
 "cells": [
  {
   "cell_type": "code",
   "execution_count": null,
   "metadata": {},
   "outputs": [],
   "source": [
    "#1-17"
   ]
  },
  {
   "cell_type": "code",
   "execution_count": null,
   "metadata": {},
   "outputs": [],
   "source": [
    "#1 印出華氏100度等於攝氏幾度\n",
    "print(5/9*(100-32))"
   ]
  },
  {
   "cell_type": "code",
   "execution_count": null,
   "metadata": {},
   "outputs": [],
   "source": [
    "#2 印出90英尺=幾公尺\n",
    "print(90*30.5/100)"
   ]
  },
  {
   "cell_type": "code",
   "execution_count": null,
   "metadata": {},
   "outputs": [],
   "source": [
    "#3a \"'不能混\n",
    "print(\"Hello,Pyhton\")"
   ]
  },
  {
   "cell_type": "code",
   "execution_count": null,
   "metadata": {},
   "outputs": [],
   "source": [
    "#3a 沒''or\"\"\n",
    "print('Hello,Python')"
   ]
  },
  {
   "cell_type": "code",
   "execution_count": null,
   "metadata": {},
   "outputs": [],
   "source": [
    "#3a 大寫 P改小寫 、 不能縮排\n",
    "print('Hello,Python!')"
   ]
  },
  {
   "cell_type": "code",
   "execution_count": null,
   "metadata": {},
   "outputs": [],
   "source": [
    "#3b PRINT改小寫\n",
    "print(\"Hello,Pyhton\")"
   ]
  },
  {
   "cell_type": "code",
   "execution_count": null,
   "metadata": {},
   "outputs": [],
   "source": [
    "#3b 不能空格\n",
    "print('Hello,Python')"
   ]
  },
  {
   "cell_type": "code",
   "execution_count": null,
   "metadata": {},
   "outputs": [],
   "source": [
    "#3b 不能縮排、去分號\n",
    "print('Hello,Python')"
   ]
  },
  {
   "cell_type": "code",
   "execution_count": null,
   "metadata": {},
   "outputs": [],
   "source": [
    "#3c 句法錯誤\n",
    "#Convert Fahrenheit to Celsius"
   ]
  },
  {
   "cell_type": "code",
   "execution_count": null,
   "metadata": {},
   "outputs": [],
   "source": [
    "#3c \n",
    "print('Fahrenheit 212 is Celsius degree')"
   ]
  },
  {
   "cell_type": "code",
   "execution_count": null,
   "metadata": {},
   "outputs": [],
   "source": [
    "#3c 不能縮排、212-32要括號\n",
    "print(5/9*(212-32))"
   ]
  },
  {
   "cell_type": "code",
   "execution_count": null,
   "metadata": {},
   "outputs": [],
   "source": [
    "#3d '\"不能混\n",
    "print(\"Learning Python now!\")"
   ]
  },
  {
   "cell_type": "code",
   "execution_count": null,
   "metadata": {},
   "outputs": [],
   "source": [
    "#3d 去 f\n",
    "print('Python is fun')"
   ]
  },
  {
   "cell_type": "code",
   "execution_count": null,
   "metadata": {},
   "outputs": [],
   "source": [
    "#3d write改 print\n",
    "print('Python is a good programming language')"
   ]
  },
  {
   "cell_type": "code",
   "execution_count": null,
   "metadata": {},
   "outputs": [],
   "source": [
    "#3e 句法錯誤，後面少一個'\n",
    "'''\n",
    "我的第一個Python程式\n",
    "'''"
   ]
  },
  {
   "cell_type": "code",
   "execution_count": null,
   "metadata": {},
   "outputs": [],
   "source": [
    "#3e 去 f\n",
    "print('Python is fun')"
   ]
  },
  {
   "cell_type": "code",
   "execution_count": null,
   "metadata": {},
   "outputs": [],
   "source": [
    "#3e 去 ln、少''or\"\"\n",
    "print('Learning Python now!')"
   ]
  },
  {
   "cell_type": "code",
   "execution_count": null,
   "metadata": {},
   "outputs": [],
   "source": [
    "\n",
    "\n"
   ]
  },
  {
   "cell_type": "code",
   "execution_count": null,
   "metadata": {},
   "outputs": [],
   "source": [
    "#2-20"
   ]
  },
  {
   "cell_type": "code",
   "execution_count": null,
   "metadata": {},
   "outputs": [],
   "source": [
    "#1a '輸出字元，其中可用 %當媒介'%(輸出中的 %值)\n",
    "#|五12345八12三1234567\n",
    "print('|%10d %9d %9d|'%(12345, 12, 1234567))"
   ]
  },
  {
   "cell_type": "code",
   "execution_count": null,
   "metadata": {},
   "outputs": [],
   "source": [
    "#1a\n",
    "#|八12三1234567七123|\n",
    "print('%10d %9d %9d'%(12, 1234567, 123))"
   ]
  },
  {
   "cell_type": "code",
   "execution_count": null,
   "metadata": {},
   "outputs": [],
   "source": [
    "#1a\n",
    "#|三1234567七123五12345|\n",
    "print('%10d %9d %9d'%(1234567, 123, 12345))"
   ]
  },
  {
   "cell_type": "code",
   "execution_count": null,
   "metadata": {},
   "outputs": [],
   "source": [
    "#1b\n",
    "#Department二\n",
    "print(format('Department','12s'))"
   ]
  },
  {
   "cell_type": "code",
   "execution_count": null,
   "metadata": {},
   "outputs": [],
   "source": [
    "#1b\n",
    "#of十\n",
    "print(format('of','12s'))"
   ]
  },
  {
   "cell_type": "code",
   "execution_count": null,
   "metadata": {},
   "outputs": [],
   "source": [
    "#1b\n",
    "#Computer四\n",
    "print(format('Computer','12s'))"
   ]
  },
  {
   "cell_type": "code",
   "execution_count": null,
   "metadata": {},
   "outputs": [],
   "source": [
    "#1b\n",
    "#Science五\n",
    "print(format('Science','12s'))"
   ]
  },
  {
   "cell_type": "code",
   "execution_count": null,
   "metadata": {},
   "outputs": [],
   "source": [
    "#1b\n",
    "#沒東西\n",
    "print()"
   ]
  },
  {
   "cell_type": "code",
   "execution_count": null,
   "metadata": {},
   "outputs": [],
   "source": [
    "#1c\n",
    "#二Department\n",
    "print(format('Department','>12s'))"
   ]
  },
  {
   "cell_type": "code",
   "execution_count": null,
   "metadata": {},
   "outputs": [],
   "source": [
    "#1C\n",
    "#十of\n",
    "print(format('of','>12s'))"
   ]
  },
  {
   "cell_type": "code",
   "execution_count": null,
   "metadata": {},
   "outputs": [],
   "source": [
    "#1c\n",
    "#四Computer\n",
    "print(format('Computer','>12s'))"
   ]
  },
  {
   "cell_type": "code",
   "execution_count": null,
   "metadata": {},
   "outputs": [],
   "source": [
    "#1C\n",
    "#五Science\n",
    "print(format('Science','>12s'))"
   ]
  },
  {
   "cell_type": "code",
   "execution_count": null,
   "metadata": {},
   "outputs": [],
   "source": [
    "#1d\n",
    "#四123.46\n",
    "print(format(123.456,'10.2f'))"
   ]
  },
  {
   "cell_type": "code",
   "execution_count": null,
   "metadata": {},
   "outputs": [],
   "source": [
    "#1d\n",
    "#二12345.68\n",
    "print(format(12345.678,'10.2f'))"
   ]
  },
  {
   "cell_type": "code",
   "execution_count": null,
   "metadata": {},
   "outputs": [],
   "source": [
    "#1e\n",
    "#i=100\n",
    "print('i=%d'%100)"
   ]
  },
  {
   "cell_type": "code",
   "execution_count": null,
   "metadata": {},
   "outputs": [],
   "source": [
    "#1e\n",
    "#i=100, j=200\n",
    "print('i=%d, j=%d'%(100,200))"
   ]
  },
  {
   "cell_type": "code",
   "execution_count": null,
   "metadata": {},
   "outputs": [],
   "source": [
    "#1f\n",
    "#Price:$  356.09\n",
    "print('Price:$%8.2f'%356.08977)"
   ]
  },
  {
   "cell_type": "code",
   "execution_count": null,
   "metadata": {},
   "outputs": [],
   "source": [
    "#1f\n",
    "#四123.46一四345.79\n",
    "print('%10.2f %10.2f'%(123.456,345.789))"
   ]
  },
  {
   "cell_type": "code",
   "execution_count": null,
   "metadata": {},
   "outputs": [],
   "source": [
    "#1f\n",
    "#123.46四二100\n",
    "print('%-10.2f%5d'%(123.456,100))"
   ]
  },
  {
   "cell_type": "code",
   "execution_count": null,
   "metadata": {},
   "outputs": [],
   "source": [
    "#1f\n",
    "#radius = 5, area=   78.54\n",
    "print('radius = %d, area = %7.2f'%(5,5*5*3.14159))"
   ]
  },
  {
   "cell_type": "code",
   "execution_count": null,
   "metadata": {},
   "outputs": [],
   "source": [
    "#1f\n",
    "#Radius:  5, Area:     78.54\n",
    "print('Radius:{a:3d}, Area:{b:10.2f}'.format(a=5,b=5*5*3.14159))"
   ]
  },
  {
   "cell_type": "code",
   "execution_count": null,
   "metadata": {},
   "outputs": [],
   "source": [
    "#1g\n",
    "#3.25 degree Celsius in Fahreheit is 37.85\n",
    "print('%.2f degree Celsius in Fahreheit is %.2f'%(3.25,3.25*1.8+32))"
   ]
  },
  {
   "cell_type": "code",
   "execution_count": null,
   "metadata": {},
   "outputs": [],
   "source": [
    "#1g\n",
    "#3.25 degree Celsius in Fahreheit is 37.85\n",
    "print('%.2f degree Fahreheit in celsius is %.2f'%(94.5,(94.5-32)/1.8))"
   ]
  },
  {
   "cell_type": "code",
   "execution_count": null,
   "metadata": {},
   "outputs": [],
   "source": [
    "#1h\n",
    "#Month十 Amount四\n",
    "print('%-15s %-10s'%('Month','Amount'))"
   ]
  },
  {
   "cell_type": "code",
   "execution_count": null,
   "metadata": {},
   "outputs": [],
   "source": [
    "#1h\n",
    "#1十五43400.20二\n",
    "print('%-15d %-10.2f' %(1,43400.2))"
   ]
  },
  {
   "cell_type": "code",
   "execution_count": null,
   "metadata": {},
   "outputs": [],
   "source": [
    "#1h\n",
    "#2十五45430.28二\n",
    "print('%-15d %-10.2f' %(2,45430.28))"
   ]
  },
  {
   "cell_type": "code",
   "execution_count": null,
   "metadata": {},
   "outputs": [],
   "source": [
    "#1h\n",
    "#3十五48030.48二\n",
    "print('%-15d %-10.2f' %(3,48030.48))"
   ]
  },
  {
   "cell_type": "code",
   "execution_count": null,
   "metadata": {},
   "outputs": [],
   "source": [
    "#1h\n",
    "#4十五51112.86二\n",
    "print('%-15d %-10.2f' %(4,51112.96))"
   ]
  },
  {
   "cell_type": "code",
   "execution_count": null,
   "metadata": {},
   "outputs": [],
   "source": [
    "#1h\n",
    "#5十五52857.20二\n",
    "print('%-15d %-10.2f' %(5,52857.2))"
   ]
  },
  {
   "cell_type": "code",
   "execution_count": null,
   "metadata": {},
   "outputs": [],
   "source": [
    "#2 $改成 %\n",
    "print('|%10d %9d %9d|'%(12345, 12, 1234567))"
   ]
  },
  {
   "cell_type": "code",
   "execution_count": null,
   "metadata": {},
   "outputs": [],
   "source": [
    "#2 少了 a=、少了 b=\n",
    "print('Radius:{a:3d}, Area:{b:10.2f}'.format(a=5,b=5*5*3.14159))"
   ]
  },
  {
   "cell_type": "code",
   "execution_count": null,
   "metadata": {},
   "outputs": [],
   "source": [
    "#2 前後顛倒，123.456與'10.2f'交換位置\n",
    "print(format(123.456,'10.2f'))"
   ]
  },
  {
   "cell_type": "code",
   "execution_count": null,
   "metadata": {},
   "outputs": [],
   "source": [
    "#2 改成 print('%-15s %-10.2f'%(1, 43400.2))\n",
    "print('%-15s %-10.2f'%(1, 43400.2))"
   ]
  },
  {
   "cell_type": "code",
   "execution_count": null,
   "metadata": {},
   "outputs": [],
   "source": [
    "#2 去所有的%\n",
    "print('x={0:5d}, y={1:7d}'.format(123,12345))"
   ]
  },
  {
   "cell_type": "code",
   "execution_count": null,
   "metadata": {},
   "outputs": [],
   "source": [
    "#3\n",
    "print(format(123,'<9d'),end='')\n",
    "print(format(45,'<5d'))\n",
    "print(format(123456,'<9d'),end='')\n",
    "print(format(78901,'<5d'))"
   ]
  },
  {
   "cell_type": "code",
   "execution_count": null,
   "metadata": {},
   "outputs": [],
   "source": [
    "#3\n",
    "print('{0:<9d}{1:<5d}'.format(123,45))\n",
    "print('{0:<9}{1:<5d}'.format(123456,78901))"
   ]
  },
  {
   "cell_type": "code",
   "execution_count": null,
   "metadata": {},
   "outputs": [],
   "source": [
    "#3\n",
    "print('%-9d%-5d'%(123,45))\n",
    "print('%-9d%-5d'%(123456,78901))"
   ]
  },
  {
   "cell_type": "code",
   "execution_count": null,
   "metadata": {},
   "outputs": [],
   "source": [
    "#4\n",
    "print('%9d%5d'%(123,45))\n",
    "print('%9d%5d'%(123456,78901))"
   ]
  },
  {
   "cell_type": "code",
   "execution_count": null,
   "metadata": {},
   "outputs": [],
   "source": [
    "\n",
    "\n"
   ]
  },
  {
   "cell_type": "code",
   "execution_count": null,
   "metadata": {},
   "outputs": [],
   "source": [
    "#3-20"
   ]
  },
  {
   "cell_type": "code",
   "execution_count": null,
   "metadata": {},
   "outputs": [],
   "source": [
    "#1a\n",
    "a=100\n",
    "b=200\n",
    "c,d=a,b\n",
    "print(c,d)\n",
    "print(c)\n",
    "print(d)\n",
    "print()"
   ]
  },
  {
   "cell_type": "code",
   "execution_count": null,
   "metadata": {},
   "outputs": [],
   "source": [
    "#1b\n",
    "a=100\n",
    "b=200\n",
    "c,d=a,b\n",
    "print(c,d)\n",
    "print(c,end='')\n",
    "print(d,end='***')\n",
    "print('over')"
   ]
  },
  {
   "cell_type": "code",
   "execution_count": null,
   "metadata": {},
   "outputs": [],
   "source": [
    "#1c\n",
    "a=100\n",
    "b=200\n",
    "c,d=a,b\n",
    "print(c,d)\n",
    "print(c,end='$')\n",
    "print('and')\n",
    "print(d,end='***')\n",
    "print('over')"
   ]
  },
  {
   "cell_type": "code",
   "execution_count": null,
   "metadata": {},
   "outputs": [],
   "source": [
    "#2a\n",
    "x=100\n",
    "y=3\n",
    "print(x*y)\n",
    "print(x/y)\n",
    "print(x//y)\n",
    "print(x%y)\n",
    "print(x**y)\n",
    "print(x**0.5)"
   ]
  },
  {
   "cell_type": "code",
   "execution_count": null,
   "metadata": {},
   "outputs": [],
   "source": [
    "#2b\n",
    "str1 = 'Hello,'\n",
    "str2 = \"Python\"\n",
    "str3 = str1 + str2\n",
    "print(str3)\n",
    "a = 100\n",
    "b = 200\n",
    "c = a+b\n",
    "print(c)"
   ]
  },
  {
   "cell_type": "code",
   "execution_count": null,
   "metadata": {},
   "outputs": [],
   "source": [
    "#2c 記得該空格要空格: e.g. learning Python\n",
    "str1 ='Hello,'+\\\n",
    "    'Pyhton, Let\\'s lrearing '\n",
    "str2 =\"Python now\"\n",
    "str3 = str1+str2\n",
    "print(str3)"
   ]
  },
  {
   "cell_type": "code",
   "execution_count": null,
   "metadata": {},
   "outputs": [],
   "source": [
    "#3a\n",
    "a=100\n",
    "b=3\n",
    "a//=b\n",
    "print(a)\n",
    "\n",
    "a=100\n",
    "a%=b\n",
    "print(a)\n",
    "\n",
    "a=100\n",
    "a/=b\n",
    "print(a)"
   ]
  },
  {
   "cell_type": "code",
   "execution_count": null,
   "metadata": {},
   "outputs": [],
   "source": [
    "#3b 交換位置 a,b=b,a\n",
    "a=100\n",
    "b=200\n",
    "print(a,b)\n",
    "\n",
    "b,a=a,b\n",
    "print(a,b)"
   ]
  },
  {
   "cell_type": "code",
   "execution_count": null,
   "metadata": {},
   "outputs": [],
   "source": [
    "#3c 交換位置 設第三個變數當媒介\n",
    "a=100\n",
    "b=200\n",
    "print(a,b)\n",
    "\n",
    "temp=a\n",
    "a=b\n",
    "b=temp\n",
    "print(a,b)"
   ]
  },
  {
   "cell_type": "code",
   "execution_count": null,
   "metadata": {},
   "outputs": [],
   "source": [
    "#4 上:相加 下:字串 i8記得要給''\n",
    "a=eval(input('Enter an integer: '))\n",
    "b=a+100\n",
    "print(a,b)\n",
    "\n",
    "str1=input('Enter a string: ')\n",
    "str2=str1+'i8'\n",
    "print(str2)"
   ]
  },
  {
   "cell_type": "code",
   "execution_count": null,
   "metadata": {},
   "outputs": [],
   "source": [
    "#5a 第一行最後少\\、t後'前面少\\\n",
    "str1='Hello, '+\\\n",
    "    'Python, Let\\'s learning '\n",
    "str2=\"Python now\"\n",
    "str3=str1+str2\n",
    "print(str3)"
   ]
  },
  {
   "cell_type": "code",
   "execution_count": null,
   "metadata": {},
   "outputs": [],
   "source": [
    "#5b 不能縮排、212-32少()\n",
    "#Convert Fahrenheit to Celsius\n",
    "print('Fahrenheit 212 is Celsius degree')\n",
    "print(5/9*(212-32))"
   ]
  },
  {
   "cell_type": "code",
   "execution_count": null,
   "metadata": {},
   "outputs": [],
   "source": [
    "#5c 不可以直接換，要用第三個變數當媒介或如下方所示\n",
    "#change a and b\n",
    "a=100\n",
    "b=200\n",
    "print(a,b)\n",
    "\n",
    "a,b = b,a\n",
    "print(a,b)"
   ]
  },
  {
   "cell_type": "code",
   "execution_count": null,
   "metadata": {},
   "outputs": [],
   "source": [
    "#5d 少函數 eval()\n",
    "a=eval(input('Enter an integer: '))\n",
    "b=a+100\n",
    "\n",
    "print(a,b)"
   ]
  },
  {
   "cell_type": "code",
   "execution_count": null,
   "metadata": {},
   "outputs": [],
   "source": [
    "#5e 少''\n",
    "a=eval(input('Enter an integer: '))\n",
    "b=a+100\n",
    "print(a,b)"
   ]
  },
  {
   "cell_type": "code",
   "execution_count": null,
   "metadata": {},
   "outputs": [],
   "source": [
    "#5f #改成'''\n",
    "'''\n",
    "Display 2 messages\n",
    "'''\n",
    "a=100\n",
    "b=200\n",
    "print(a,b)"
   ]
  },
  {
   "cell_type": "code",
   "execution_count": null,
   "metadata": {},
   "outputs": [],
   "source": [
    "#6\n",
    "41/5"
   ]
  },
  {
   "cell_type": "code",
   "execution_count": null,
   "metadata": {},
   "outputs": [],
   "source": [
    "#6\n",
    "41//5"
   ]
  },
  {
   "cell_type": "code",
   "execution_count": null,
   "metadata": {},
   "outputs": [],
   "source": [
    "#6\n",
    "41%5"
   ]
  },
  {
   "cell_type": "code",
   "execution_count": null,
   "metadata": {},
   "outputs": [],
   "source": [
    "#6\n",
    "50%5"
   ]
  },
  {
   "cell_type": "code",
   "execution_count": null,
   "metadata": {},
   "outputs": [],
   "source": [
    "#6\n",
    "1%2"
   ]
  },
  {
   "cell_type": "code",
   "execution_count": null,
   "metadata": {},
   "outputs": [],
   "source": [
    "#6\n",
    "35%3"
   ]
  },
  {
   "cell_type": "code",
   "execution_count": null,
   "metadata": {},
   "outputs": [],
   "source": [
    "#6\n",
    "45+4*3-12"
   ]
  },
  {
   "cell_type": "code",
   "execution_count": null,
   "metadata": {},
   "outputs": [],
   "source": [
    "#6\n",
    "45+34%3*(21*3%2)"
   ]
  },
  {
   "cell_type": "code",
   "execution_count": null,
   "metadata": {},
   "outputs": [],
   "source": [
    "#6\n",
    "6**3-21"
   ]
  },
  {
   "cell_type": "code",
   "execution_count": null,
   "metadata": {},
   "outputs": [],
   "source": [
    "#6\n",
    "100**0.5*2-29"
   ]
  },
  {
   "cell_type": "code",
   "execution_count": null,
   "metadata": {},
   "outputs": [],
   "source": [
    "#7\n",
    "a=10\n",
    "a+=3\n",
    "print(a)"
   ]
  },
  {
   "cell_type": "code",
   "execution_count": null,
   "metadata": {},
   "outputs": [],
   "source": [
    "#7\n",
    "a=10\n",
    "a*=3\n",
    "print(a)"
   ]
  },
  {
   "cell_type": "code",
   "execution_count": null,
   "metadata": {},
   "outputs": [],
   "source": [
    "#7\n",
    "a=10\n",
    "a/=3\n",
    "print(a)"
   ]
  },
  {
   "cell_type": "code",
   "execution_count": null,
   "metadata": {},
   "outputs": [],
   "source": [
    "#7\n",
    "a=10\n",
    "a//=3\n",
    "print(a)"
   ]
  },
  {
   "cell_type": "code",
   "execution_count": null,
   "metadata": {},
   "outputs": [],
   "source": [
    "#7\n",
    "a=10\n",
    "a%=3\n",
    "print(a)"
   ]
  },
  {
   "cell_type": "code",
   "execution_count": null,
   "metadata": {},
   "outputs": [],
   "source": [
    "#8\n",
    "#output 1 \n",
    "print(1,end='')\n",
    "print(22,end='')\n",
    "print(333)\n",
    "print()"
   ]
  },
  {
   "cell_type": "code",
   "execution_count": null,
   "metadata": {},
   "outputs": [],
   "source": [
    "#8\n",
    "#output 2\n",
    "print(1,end='$')\n",
    "print(22,end='@@@@@')\n",
    "print(333)\n",
    "print('Over')"
   ]
  },
  {
   "cell_type": "code",
   "execution_count": null,
   "metadata": {},
   "outputs": [],
   "source": [
    "#9\n",
    "a=eval(input('Enter an integers : '))\n",
    "b=eval(input('Enter an integers : '))\n",
    "c=eval(input('Enter an integers : '))\n",
    "d=eval(input('Enter an integers : '))\n",
    "e=eval(input('Enter an integers : '))\n",
    "\n",
    "print(a,b,c,d,e)\n",
    "print('Sum = %d'%(a+b+c+d+e))\n",
    "print('Average = %.1f'%((a+b+c+d+e)/5))"
   ]
  },
  {
   "cell_type": "code",
   "execution_count": null,
   "metadata": {},
   "outputs": [],
   "source": [
    "#10\n",
    "a,b,c,d,e=eval(input('Enter five integers by commas: '))\n",
    "\n",
    "print(a,b,c,d,e)\n",
    "print('Sum = %d'%(a+b+c+d+e))\n",
    "print('Average = %.1f'%((a+b+c+d+e)/5))"
   ]
  },
  {
   "cell_type": "code",
   "execution_count": null,
   "metadata": {},
   "outputs": [],
   "source": []
  },
  {
   "cell_type": "code",
   "execution_count": null,
   "metadata": {},
   "outputs": [],
   "source": [
    "#4-14"
   ]
  },
  {
   "cell_type": "code",
   "execution_count": null,
   "metadata": {},
   "outputs": [],
   "source": [
    "#1a\n",
    "a=-888\n",
    "b=100\n",
    "c=10\n",
    "d=2\n",
    "e=0.5\n",
    "print(abs(a))\n",
    "print(max(a,b,c,d,e))\n",
    "print(min(a,b,c,d,e))\n",
    "print(pow(c,d))\n",
    "print(round(7.5))\n",
    "print(round(6.5))\n",
    "print(int(123.456))\n",
    "print(round(123.456,2))"
   ]
  },
  {
   "cell_type": "code",
   "execution_count": null,
   "metadata": {},
   "outputs": [],
   "source": [
    "#1b\n",
    "import math\n",
    "a=math.fabs(-123.45)\n",
    "print(a)\n",
    "\n",
    "b=math.ceil(8.8)\n",
    "print(b)\n",
    "\n",
    "c=math.floor(8.8)\n",
    "print(c)\n",
    "\n",
    "d=math.exp(1)\n",
    "print(d)\n",
    "\n",
    "e=math.log(100)\n",
    "print(e)\n",
    "\n",
    "f=math.log(100,10)\n",
    "print(f)\n",
    "\n",
    "g=math.sqrt(1000000)\n",
    "print(g)"
   ]
  },
  {
   "cell_type": "code",
   "execution_count": null,
   "metadata": {},
   "outputs": [],
   "source": [
    "#1c\n",
    "m=math.tan(0)\n",
    "print(m)\n",
    "\n",
    "n=math.tan(2*math.pi)\n",
    "print(n)\n",
    "\n",
    "p=math.degrees(2*math.pi)\n",
    "print(p)\n",
    "\n",
    "q=math.radians(360)\n",
    "print(q)"
   ]
  },
  {
   "cell_type": "code",
   "execution_count": null,
   "metadata": {},
   "outputs": [],
   "source": [
    "#1d\n",
    "x='Apple i'+str(8)\n",
    "print(x)\n",
    "\n",
    "y=ord('Z')\n",
    "print(y)\n",
    "\n",
    "z=chr(100)\n",
    "print(z)"
   ]
  },
  {
   "cell_type": "code",
   "execution_count": null,
   "metadata": {},
   "outputs": [],
   "source": [
    "#2\n",
    "import math #少了載入math\n",
    "f1=math.log(10000,10) #少了math.\n",
    "print(f)\n",
    "\n",
    "g1=math.sqrt(10000) #少了math.\n",
    "print(g1)\n",
    "\n",
    "h1=math.tan(0) #少了math.\n",
    "print(h1)\n",
    "\n",
    "p1=max(1,2,4,78,300) #多了math.\n",
    "print(p)\n",
    "\n",
    "q1=abs(-101) #多了math.\n",
    "print(q1)\n",
    "\n",
    "r1=chr(97) #ord改成chr\n",
    "print(r1)"
   ]
  },
  {
   "cell_type": "code",
   "execution_count": null,
   "metadata": {},
   "outputs": [],
   "source": [
    "\n",
    "\n"
   ]
  },
  {
   "cell_type": "code",
   "execution_count": null,
   "metadata": {},
   "outputs": [],
   "source": [
    "#5-37"
   ]
  },
  {
   "cell_type": "code",
   "execution_count": null,
   "metadata": {},
   "outputs": [],
   "source": [
    "#1a\n",
    "score = eval(input('Enter your score:'))\n",
    "if score >=60:\n",
    "    score +=10\n",
    "print('Your score is %d'%(score))\n",
    "    "
   ]
  },
  {
   "cell_type": "code",
   "execution_count": null,
   "metadata": {},
   "outputs": [],
   "source": [
    "#1b\n",
    "score = eval(input('Enter your scor:'))\n",
    "if score >=60:\n",
    "    score+=10\n",
    "else:\n",
    "    score+=8\n",
    "print('Your score is %d'%(score))"
   ]
  },
  {
   "cell_type": "code",
   "execution_count": null,
   "metadata": {},
   "outputs": [],
   "source": [
    "#1c\n",
    "temperature = eval(input('Enter temperature today:'))\n",
    "if temperature >=28:\n",
    "    print('Hot')\n",
    "else:\n",
    "    print('Comfortable')\n",
    "print('over')"
   ]
  },
  {
   "cell_type": "code",
   "execution_count": null,
   "metadata": {},
   "outputs": [],
   "source": [
    "#1d\n",
    "temperature = eval(input('Enter temperature today:'))\n",
    "if temperature >=28:\n",
    "    print('Hot')\n",
    "elif temperature >=22:\n",
    "    print('Comfortable')\n",
    "else:\n",
    "    print('cold')\n",
    "print('over')"
   ]
  },
  {
   "cell_type": "code",
   "execution_count": null,
   "metadata": {},
   "outputs": [],
   "source": [
    "#1e\n",
    "temperature = eval(input('Enter temperature today:'))\n",
    "humility = eval(input('Enter humility today:'))\n",
    "if temperature >= 28:\n",
    "    print('Hot')\n",
    "elif temperature >= 22 and humility >=40 and humility <=50:\n",
    "    print('comfortable')\n",
    "else:\n",
    "    print('cold')\n",
    "print('over')"
   ]
  },
  {
   "cell_type": "code",
   "execution_count": null,
   "metadata": {},
   "outputs": [],
   "source": [
    "#1f\n",
    "char = input('Enter a character:')\n",
    "if char >='a'and char <='z':\n",
    "    print('%c is lowercase character'%(char))\n",
    "elif char >='A'and char <='Z':\n",
    "    print('%c is uppercase character'%(char))\n",
    "else:\n",
    "    print('%s is other character'%(char))"
   ]
  },
  {
   "cell_type": "code",
   "execution_count": null,
   "metadata": {},
   "outputs": [],
   "source": [
    "#1g\n",
    "num = eval(input('Enter a number:'))\n",
    "if num%2==0:\n",
    "    print('%d'%(num),end='')\n",
    "    print('is even number.')\n",
    "else:\n",
    "    print('%d'%(num),end='')\n",
    "    print('is odd number')\n",
    "print('Test is over')"
   ]
  },
  {
   "cell_type": "code",
   "execution_count": null,
   "metadata": {},
   "outputs": [],
   "source": [
    "#2a\n",
    "radius = eval(input(\"Please input radius:\")) #去;\n",
    "\n",
    "if radius == 0: #加==、:\n",
    "    print(\"Negative is not invalid !!!\") #去;\n",
    "else: #加:\n",
    "    area=radius*radius*3.14159\n",
    "print(\"radius=%.2f\"%radius) #加%.2f、去，、%\n",
    "print(\"area=%.2f\"%area) #加%.2f、去，、%、"
   ]
  },
  {
   "cell_type": "code",
   "execution_count": null,
   "metadata": {},
   "outputs": [],
   "source": [
    "#2b\n",
    "temperature= eval(input('Enter temperature today: '))\n",
    "if temperature >=28 :\n",
    "    print('Hot')\n",
    "elif temperature >=22: #elseif>elif\n",
    "    print('Comfortable')\n",
    "else:\n",
    "    print('Cold')\n",
    "print('Over')"
   ]
  },
  {
   "cell_type": "code",
   "execution_count": null,
   "metadata": {},
   "outputs": [],
   "source": [
    "#2c\n",
    "score=eval(input('Enter your score: '))\n",
    "if score >= 60 : #去then\n",
    "    score+=10\n",
    "else:\n",
    "    score+=8\n",
    "print('Your score is %d'%(score))"
   ]
  },
  {
   "cell_type": "code",
   "execution_count": null,
   "metadata": {},
   "outputs": [],
   "source": [
    "#2d\n",
    "temperature = eval(input('Enter temperature today:'))\n",
    "humility = eval(input('Enter humility today:'))\n",
    "if temperature >= 28:\n",
    "    print('Hot')\n",
    "elif temperature >= 22 and humility >=40 and humility <=50: #&&改and\n",
    "    print('comfortable')\n",
    "else:\n",
    "    print('cold')\n",
    "print('over')"
   ]
  },
  {
   "cell_type": "code",
   "execution_count": null,
   "metadata": {},
   "outputs": [],
   "source": [
    "#2e\n",
    "year=eval(input('Please input what year?'))\n",
    "if year%400==0 or (year%4==0 and year%100!=0): #or<->and\n",
    "    print(year,\"is leap year\")\n",
    "else:\n",
    "    print(year,\"is not leap year\")"
   ]
  },
  {
   "cell_type": "code",
   "execution_count": null,
   "metadata": {},
   "outputs": [],
   "source": [
    "#2f\n",
    "char=input('Enter a character: ')\n",
    "if char >= 'a' and char <= 'z': #<>對換\n",
    "    print('%c is lowercase character'%(char))\n",
    "elif char >= 'A' and char <= 'Z': #<>對換\n",
    "    print('%c is upppercase character'%(char))\n",
    "else:\n",
    "    print('%s is other character'%(char))"
   ]
  },
  {
   "cell_type": "code",
   "execution_count": null,
   "metadata": {},
   "outputs": [],
   "source": [
    "#1g\n",
    "num=eval(input('Enter a number: ')) #eval()\n",
    "if num%2==0: #少了一個=\n",
    "    print('%d'%(num),end='')\n",
    "    print(' is even number') #縮排\n",
    "else:\n",
    "    print('%d'%(num),end='')\n",
    "    print(' is odd number') #改odd\n",
    "print('Test is over')"
   ]
  },
  {
   "cell_type": "code",
   "execution_count": null,
   "metadata": {},
   "outputs": [],
   "source": [
    "#3\n",
    "a,b=eval(input('Enter two numbers by commas : '))\n",
    "if a>b:\n",
    "    print('%.1f > %.1f'%(a,b))\n",
    "elif a<b:\n",
    "    print('%.1f < %.1f'%(a,b))\n",
    "else:\n",
    "    print('%.1f = %.1f'%(a,b))\n"
   ]
  },
  {
   "cell_type": "code",
   "execution_count": null,
   "metadata": {},
   "outputs": [],
   "source": [
    "#4\n",
    "a=eval(input('Enter a number : '))\n",
    "if a%3==0 and a%5==0:\n",
    "    print('%.1f is 3\\'s and 5\\'s multiple'%a)\n",
    "else:\n",
    "    print('%.1f is not 3\\'s and 5\\'s multiple'%a)"
   ]
  },
  {
   "cell_type": "code",
   "execution_count": null,
   "metadata": {},
   "outputs": [],
   "source": [
    "#5\n",
    "a,b=eval(input('Enter two number by comma : '))\n",
    "if b!=0:\n",
    "    print('%.1f / %.1f'%(a,b))\n",
    "else:\n",
    "    print('分母不可為0')"
   ]
  },
  {
   "cell_type": "code",
   "execution_count": null,
   "metadata": {},
   "outputs": [],
   "source": [
    "#6\n",
    "sale=eval(input('Enter your sales this month : '))\n",
    "if sale>=0.01 and sale<5000:\n",
    "    print('%.1f'%(6000+sale*0.1))\n",
    "elif sale<10000:\n",
    "    print('%.1f'%(6000+sale*0.12))\n",
    "elif sale<15000:\n",
    "    print('%.1f'%(6000+sale*0.14))\n",
    "else:\n",
    "    print('%.1f'%(6000+sale*0.16))"
   ]
  },
  {
   "cell_type": "code",
   "execution_count": null,
   "metadata": {},
   "outputs": [],
   "source": [
    "#7\n",
    "a=eval(input('Enter a three-digit number : '))\n",
    "if a//100 == a%10:\n",
    "    print('%d is a palindrome number'%a)\n",
    "else:\n",
    "    print('%d is not a palindrome number'%a)"
   ]
  },
  {
   "cell_type": "code",
   "execution_count": null,
   "metadata": {},
   "outputs": [],
   "source": [
    "#8 找不到錯誤\n",
    "x,y=eval(input('Enter (x,y) by commas :'))\n",
    "if x<=8 and y<=8 :\n",
    "    print('(%d,%d) is in the circle that its radius is 8'%(x,y))\n",
    "else:\n",
    "    print('(%d,%d) is out of the circle that its radius is 8'%(x,y))"
   ]
  },
  {
   "cell_type": "code",
   "execution_count": null,
   "metadata": {},
   "outputs": [],
   "source": [
    "#9\n",
    "import math\n",
    "a=eval(input('Enter a number as Side length = '))\n",
    "area=(5*a**2)/(4*math.tan(math.pi/5))\n",
    "if a<=0 :\n",
    "    print('無效的邊長')\n",
    "else:\n",
    "    print('area= %.1f'%area)"
   ]
  },
  {
   "cell_type": "code",
   "execution_count": null,
   "metadata": {},
   "outputs": [],
   "source": [
    "#10\n",
    "a=eval(input('請輸入理想的候選人號碼: '))\n",
    "if a==1:\n",
    "    print('小柯')\n",
    "elif a==2:\n",
    "    print('小姚')\n",
    "elif a==3:\n",
    "    print('小丁')\n",
    "elif a==4:\n",
    "    print('路人甲')\n",
    "else:\n",
    "    print('她媽沒有這個人')"
   ]
  },
  {
   "cell_type": "code",
   "execution_count": null,
   "metadata": {},
   "outputs": [],
   "source": [
    "#11\n",
    "a=input('今天要睡覺嗎(要or不要): ')\n",
    "if a=='要':\n",
    "    print('睡爆')\n",
    "elif a=='不要':\n",
    "    print('賣捆')\n",
    "else:\n",
    "    print('阿是不會看題目逆^^')"
   ]
  },
  {
   "cell_type": "code",
   "execution_count": null,
   "metadata": {},
   "outputs": [],
   "source": [
    "#11\n",
    "a=input('今天要上課嗎(要or不要): ')\n",
    "if a=='要':\n",
    "    print('翹爆')\n",
    "elif a=='不要':\n",
    "    print('賣翹')\n",
    "else:\n",
    "    print('阿是不會看題目逆^^')"
   ]
  },
  {
   "cell_type": "code",
   "execution_count": null,
   "metadata": {},
   "outputs": [],
   "source": [
    "#11\n",
    "a=input('今天要打game嗎(要or不要): ')\n",
    "if a=='要':\n",
    "    print('打爆')\n",
    "elif a=='不要':\n",
    "    print('賣啦')\n",
    "else:\n",
    "    print('阿是不會看題目逆^^')"
   ]
  },
  {
   "cell_type": "code",
   "execution_count": null,
   "metadata": {},
   "outputs": [],
   "source": [
    "#11\n",
    "a=input('今天要吃屎嗎(要or不要): ')\n",
    "if a=='要':\n",
    "    print('吃爆')\n",
    "elif a=='不要':\n",
    "    print('賣啦')\n",
    "else:\n",
    "    print('我也覺得^^')"
   ]
  },
  {
   "cell_type": "code",
   "execution_count": null,
   "metadata": {},
   "outputs": [],
   "source": [
    "#11\n",
    "a=input('今天要棒賽嗎(要or不要): ')\n",
    "if a=='要':\n",
    "    print('棒爆')\n",
    "elif a=='不要':\n",
    "    print('賣啦')\n",
    "else:\n",
    "    print('QQ')"
   ]
  },
  {
   "cell_type": "code",
   "execution_count": null,
   "metadata": {},
   "outputs": [],
   "source": [
    "\n",
    "\n"
   ]
  },
  {
   "cell_type": "code",
   "execution_count": null,
   "metadata": {},
   "outputs": [],
   "source": [
    "#p6-43"
   ]
  },
  {
   "cell_type": "code",
   "execution_count": null,
   "metadata": {},
   "outputs": [],
   "source": [
    "#1a"
   ]
  },
  {
   "cell_type": "code",
   "execution_count": null,
   "metadata": {},
   "outputs": [],
   "source": [
    "#1b"
   ]
  },
  {
   "cell_type": "code",
   "execution_count": null,
   "metadata": {},
   "outputs": [],
   "source": [
    "#1c"
   ]
  },
  {
   "cell_type": "code",
   "execution_count": null,
   "metadata": {},
   "outputs": [],
   "source": [
    "#1d"
   ]
  },
  {
   "cell_type": "code",
   "execution_count": null,
   "metadata": {},
   "outputs": [],
   "source": [
    "#1e"
   ]
  },
  {
   "cell_type": "code",
   "execution_count": null,
   "metadata": {},
   "outputs": [],
   "source": [
    "#1f"
   ]
  },
  {
   "cell_type": "code",
   "execution_count": null,
   "metadata": {},
   "outputs": [],
   "source": [
    "#1g"
   ]
  },
  {
   "cell_type": "code",
   "execution_count": null,
   "metadata": {},
   "outputs": [],
   "source": [
    "#1h"
   ]
  },
  {
   "cell_type": "code",
   "execution_count": null,
   "metadata": {},
   "outputs": [],
   "source": [
    "#2a"
   ]
  },
  {
   "cell_type": "code",
   "execution_count": null,
   "metadata": {},
   "outputs": [],
   "source": [
    "#2b"
   ]
  },
  {
   "cell_type": "code",
   "execution_count": null,
   "metadata": {},
   "outputs": [],
   "source": [
    "#2c"
   ]
  },
  {
   "cell_type": "code",
   "execution_count": null,
   "metadata": {},
   "outputs": [],
   "source": [
    "#2d"
   ]
  },
  {
   "cell_type": "code",
   "execution_count": null,
   "metadata": {},
   "outputs": [],
   "source": [
    "#2e"
   ]
  },
  {
   "cell_type": "code",
   "execution_count": null,
   "metadata": {},
   "outputs": [],
   "source": [
    "#3a 1~100 10倍數的和\n",
    "fivemulti=0\n",
    "k=10\n",
    "while k <= 100 : #少:\n",
    "    fivemulti+=k #10>k\n",
    "    k+=10 #5>10\n",
    "print(fivemulti)"
   ]
  },
  {
   "cell_type": "code",
   "execution_count": null,
   "metadata": {},
   "outputs": [],
   "source": [
    "#3b 1~100 5倍數的和\n",
    "fivemulti=0\n",
    "k=5 #改五\n",
    "while k<=100:\n",
    "    fivemulti+=k\n",
    "    k+=5\n",
    "print(fivemulti)"
   ]
  },
  {
   "cell_type": "code",
   "execution_count": null,
   "metadata": {},
   "outputs": [],
   "source": [
    "#3c \n",
    "num=0 #改0\n",
    "total=0 #定total\n",
    "while True: #True\n",
    "    num+=1\n",
    "    total+=num\n",
    "    if total>=5050:\n",
    "        break\n",
    "print('1+2+3+...+%d=%d'%(num,total))"
   ]
  },
  {
   "cell_type": "code",
   "execution_count": 7,
   "metadata": {},
   "outputs": [
    {
     "name": "stdout",
     "output_type": "stream",
     "text": [
      "1+3+5+...+99 = 2500\n"
     ]
    }
   ],
   "source": [
    "#3d 1~100的奇數和\n",
    "total=0\n",
    "num=1\n",
    "while num <= 100:\n",
    "    if num % 2 ==0:\n",
    "        num+=1\n",
    "        continue\n",
    "    total+=num\n",
    "    num+=1 #新增\n",
    "print('1+3+5+...+99 =',total)"
   ]
  },
  {
   "cell_type": "code",
   "execution_count": 11,
   "metadata": {},
   "outputs": [
    {
     "name": "stdout",
     "output_type": "stream",
     "text": [
      "2+4+6+...+100 =  2550\n"
     ]
    }
   ],
   "source": [
    "#3e 1~100的偶數和\n",
    "total=0\n",
    "for i in range(2,101): #100>101\n",
    "    if i %2 == 0 :\n",
    "        total+=i\n",
    "    else:\n",
    "        continue\n",
    "print('2+4+6+...+100 = ',total)"
   ]
  },
  {
   "cell_type": "code",
   "execution_count": 16,
   "metadata": {},
   "outputs": [
    {
     "name": "stdout",
     "output_type": "stream",
     "text": [
      "3+6+9+...+99 =  1683\n"
     ]
    }
   ],
   "source": [
    "#4 100的三倍數和\n",
    "total=0\n",
    "for i in range (3,100):\n",
    "    if i % 3 == 0 :\n",
    "        total+=i\n",
    "    continue\n",
    "print('3+6+9+...+99 = ',total)"
   ]
  },
  {
   "cell_type": "code",
   "execution_count": 25,
   "metadata": {},
   "outputs": [
    {
     "name": "stdout",
     "output_type": "stream",
     "text": [
      "23 22 10 19 8 8 \n",
      "8\n"
     ]
    }
   ],
   "source": [
    "#5\n",
    "import random\n",
    "for i in range(1,7):\n",
    "    k=random.randint(1,38)\n",
    "    print(k,end=' ')\n",
    "print()\n",
    "for i in range(1,2):\n",
    "    j=random.randint(1,9)\n",
    "    print(j)"
   ]
  },
  {
   "cell_type": "code",
   "execution_count": null,
   "metadata": {},
   "outputs": [],
   "source": []
  },
  {
   "cell_type": "code",
   "execution_count": null,
   "metadata": {},
   "outputs": [],
   "source": []
  }
 ],
 "metadata": {
  "kernelspec": {
   "display_name": "Python 3",
   "language": "python",
   "name": "python3"
  },
  "language_info": {
   "codemirror_mode": {
    "name": "ipython",
    "version": 3
   },
   "file_extension": ".py",
   "mimetype": "text/x-python",
   "name": "python",
   "nbconvert_exporter": "python",
   "pygments_lexer": "ipython3",
   "version": "3.8.3"
  }
 },
 "nbformat": 4,
 "nbformat_minor": 4
}
